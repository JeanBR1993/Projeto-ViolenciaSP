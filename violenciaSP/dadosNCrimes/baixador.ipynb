{
 "cells": [
  {
   "cell_type": "code",
   "execution_count": 7,
   "metadata": {},
   "outputs": [],
   "source": [
    "import pandas as pd\n",
    "import requests as re\n",
    "\n",
    "# O plano é fazer a programação dos anos com maior lógica e automatização posteriormente\n",
    "anos = [\"2021\", \"2022\", \"2023\", \"2024\", \"2025\"]\n",
    "link = \"https://www.ssp.sp.gov.br/v1/OcorrenciasMensais/ExportarMensal?ano={ano}&grupoDelito=6&tipoGrupo=DISTRITO&idGrupo={id}\"\n",
    "codDelegacias = pd.read_excel(\"C:/Users/Administrator/Desktop/Projeto ViolenciaSP/violenciaSP/dadosDelegacias/delegacias.xlsx\", usecols=[\"nome\", \"codRequest\"])"
   ]
  },
  {
   "cell_type": "code",
   "execution_count": null,
   "metadata": {},
   "outputs": [
    {
     "name": "stderr",
     "output_type": "stream",
     "text": [
      "<string>:4: SyntaxWarning: invalid escape sequence '\\{'\n",
      "<>:4: SyntaxWarning: invalid escape sequence '\\{'\n",
      "<string>:4: SyntaxWarning: invalid escape sequence '\\{'\n",
      "<>:4: SyntaxWarning: invalid escape sequence '\\{'\n",
      "C:\\Users\\Administrator\\AppData\\Local\\Temp\\ipykernel_17612\\3457250114.py:4: SyntaxWarning: invalid escape sequence '\\{'\n",
      "  savePath = f\"C:\\Users\\Administrator\\Desktop\\Projeto ViolenciaSP\\violenciaSP\\dadosNCrimes\\{ano}\\\"\n"
     ]
    },
    {
     "ename": "SyntaxError",
     "evalue": "unterminated f-string literal (detected at line 4) (3457250114.py, line 4)",
     "output_type": "error",
     "traceback": [
      "  \u001b[36mCell\u001b[39m\u001b[36m \u001b[39m\u001b[32mIn[9]\u001b[39m\u001b[32m, line 4\u001b[39m\n\u001b[31m    \u001b[39m\u001b[31msavePath = f\"C:\\Users\\Administrator\\Desktop\\Projeto ViolenciaSP\\violenciaSP\\dadosNCrimes\\{ano}\\\"\u001b[39m\n               ^\n\u001b[31mSyntaxError\u001b[39m\u001b[31m:\u001b[39m unterminated f-string literal (detected at line 4)\n"
     ]
    }
   ],
   "source": [
    "for ano in anos:\n",
    "    for index,row in codDelegacias.iterrows():\n",
    "        \n",
    "        savePath = \"C:\\Users\\Administrator\\Desktop\\Projeto ViolenciaSP\\violenciaSP\\dadosNCrimes\\{ano}\"\n",
    "        dados = re.get(link.format(ano=ano, id=row[\"codRequest\"]))\n",
    "        \n",
    "        print(row[\"nome\"], row[\"codRequest\"])\n",
    "        \n",
    "        if dados.status_code == 200:\n",
    "            fileName = str(row[\"nome\"])+\".xlsx\"\n",
    "            \n",
    "            with open(savePath.format(ano=ano)+fileName, \"wb\") as file:\n",
    "                file.write(dados.content)\n",
    "\n",
    "            print(f\"Download feito com sucesso do arquivo {row['nome']}, ano {ano}.\")\n",
    "\n",
    "        else:\n",
    "            print(f\"Falha no download do arquivo {row['nome']}, ano {ano}. Código status: {dados.status_code}\")\n",
    "\n",
    "        print(\"-------------------------------------\")"
   ]
  },
  {
   "cell_type": "code",
   "execution_count": null,
   "metadata": {},
   "outputs": [],
   "source": []
  }
 ],
 "metadata": {
  "kernelspec": {
   "display_name": "myenv",
   "language": "python",
   "name": "python3"
  },
  "language_info": {
   "codemirror_mode": {
    "name": "ipython",
    "version": 3
   },
   "file_extension": ".py",
   "mimetype": "text/x-python",
   "name": "python",
   "nbconvert_exporter": "python",
   "pygments_lexer": "ipython3",
   "version": "3.12.4"
  }
 },
 "nbformat": 4,
 "nbformat_minor": 2
}
